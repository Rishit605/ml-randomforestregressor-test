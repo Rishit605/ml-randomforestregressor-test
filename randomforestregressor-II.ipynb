{
 "cells": [
  {
   "cell_type": "code",
   "execution_count": 1,
   "id": "c621382e",
   "metadata": {
    "_cell_guid": "b1076dfc-b9ad-4769-8c92-a6c4dae69d19",
    "_uuid": "8f2839f25d086af736a60e9eeb907d3b93b6e0e5",
    "execution": {
     "iopub.execute_input": "2022-05-10T08:40:18.534858Z",
     "iopub.status.busy": "2022-05-10T08:40:18.534369Z",
     "iopub.status.idle": "2022-05-10T08:40:18.553455Z",
     "shell.execute_reply": "2022-05-10T08:40:18.551867Z"
    },
    "papermill": {
     "duration": 0.040189,
     "end_time": "2022-05-10T08:40:18.556693",
     "exception": false,
     "start_time": "2022-05-10T08:40:18.516504",
     "status": "completed"
    },
    "tags": []
   },
   "outputs": [
    {
     "name": "stdout",
     "output_type": "stream",
     "text": [
      "/kaggle/input/spotify-top-100-songs-of-20152019/Spotify 2010 - 2019 Top 100.csv\n",
      "/kaggle/input/spotify-top-100-songs-of-20152019/Spotify 2010 - 2019 Top 100 Songs.xlsx\n"
     ]
    }
   ],
   "source": [
    "# This Python 3 environment comes with many helpful analytics libraries installed\n",
    "# It is defined by the kaggle/python Docker image: https://github.com/kaggle/docker-python\n",
    "# For example, here's several helpful packages to load\n",
    "\n",
    "import numpy as np # linear algebra\n",
    "import pandas as pd # data processing, CSV file I/O (e.g. pd.read_csv)\n",
    "\n",
    "# Input data files are available in the read-only \"../input/\" directory\n",
    "# For example, running this (by clicking run or pressing Shift+Enter) will list all files under the input directory\n",
    "\n",
    "import os\n",
    "for dirname, _, filenames in os.walk('/kaggle/input'):\n",
    "    for filename in filenames:\n",
    "        print(os.path.join(dirname, filename))\n",
    "\n",
    "# You can write up to 20GB to the current directory (/kaggle/working/) that gets preserved as output when you create a version using \"Save & Run All\" \n",
    "# You can also write temporary files to /kaggle/temp/, but they won't be saved outside of the current session"
   ]
  },
  {
   "cell_type": "code",
   "execution_count": 2,
   "id": "f93795be",
   "metadata": {
    "execution": {
     "iopub.execute_input": "2022-05-10T08:40:18.590068Z",
     "iopub.status.busy": "2022-05-10T08:40:18.589787Z",
     "iopub.status.idle": "2022-05-10T08:40:20.206432Z",
     "shell.execute_reply": "2022-05-10T08:40:20.205587Z"
    },
    "papermill": {
     "duration": 1.635265,
     "end_time": "2022-05-10T08:40:20.208774",
     "exception": false,
     "start_time": "2022-05-10T08:40:18.573509",
     "status": "completed"
    },
    "tags": []
   },
   "outputs": [],
   "source": [
    "import matplotlib.pyplot as plt\n",
    "import seaborn as sns\n",
    "from sklearn.ensemble import RandomForestClassifier\n",
    "from sklearn.metrics import mean_absolute_error\n",
    "from sklearn.preprocessing import StandardScaler\n",
    "from sklearn.preprocessing import OneHotEncoder\n",
    "from sklearn.model_selection import train_test_split"
   ]
  },
  {
   "cell_type": "markdown",
   "id": "be28ada4",
   "metadata": {
    "papermill": {
     "duration": 0.016351,
     "end_time": "2022-05-10T08:40:20.242905",
     "exception": false,
     "start_time": "2022-05-10T08:40:20.226554",
     "status": "completed"
    },
    "tags": []
   },
   "source": [
    "# **Importing the dataset**"
   ]
  },
  {
   "cell_type": "code",
   "execution_count": 3,
   "id": "eccaf45e",
   "metadata": {
    "execution": {
     "iopub.execute_input": "2022-05-10T08:40:20.275360Z",
     "iopub.status.busy": "2022-05-10T08:40:20.275071Z",
     "iopub.status.idle": "2022-05-10T08:40:20.321389Z",
     "shell.execute_reply": "2022-05-10T08:40:20.320411Z"
    },
    "papermill": {
     "duration": 0.065388,
     "end_time": "2022-05-10T08:40:20.323918",
     "exception": false,
     "start_time": "2022-05-10T08:40:20.258530",
     "status": "completed"
    },
    "tags": []
   },
   "outputs": [
    {
     "data": {
      "text/html": [
       "<div>\n",
       "<style scoped>\n",
       "    .dataframe tbody tr th:only-of-type {\n",
       "        vertical-align: middle;\n",
       "    }\n",
       "\n",
       "    .dataframe tbody tr th {\n",
       "        vertical-align: top;\n",
       "    }\n",
       "\n",
       "    .dataframe thead th {\n",
       "        text-align: right;\n",
       "    }\n",
       "</style>\n",
       "<table border=\"1\" class=\"dataframe\">\n",
       "  <thead>\n",
       "    <tr style=\"text-align: right;\">\n",
       "      <th></th>\n",
       "      <th>title</th>\n",
       "      <th>artist</th>\n",
       "      <th>top genre</th>\n",
       "      <th>year released</th>\n",
       "      <th>added</th>\n",
       "      <th>bpm</th>\n",
       "      <th>nrgy</th>\n",
       "      <th>dnce</th>\n",
       "      <th>dB</th>\n",
       "      <th>live</th>\n",
       "      <th>val</th>\n",
       "      <th>dur</th>\n",
       "      <th>acous</th>\n",
       "      <th>spch</th>\n",
       "      <th>pop</th>\n",
       "      <th>top year</th>\n",
       "      <th>artist type</th>\n",
       "    </tr>\n",
       "  </thead>\n",
       "  <tbody>\n",
       "    <tr>\n",
       "      <th>0</th>\n",
       "      <td>STARSTRUKK (feat. Katy Perry)</td>\n",
       "      <td>3OH!3</td>\n",
       "      <td>dance pop</td>\n",
       "      <td>2009.0</td>\n",
       "      <td>2022‑02‑17</td>\n",
       "      <td>140.0</td>\n",
       "      <td>81.0</td>\n",
       "      <td>61.0</td>\n",
       "      <td>-6.0</td>\n",
       "      <td>23.0</td>\n",
       "      <td>23.0</td>\n",
       "      <td>203.0</td>\n",
       "      <td>0.0</td>\n",
       "      <td>6.0</td>\n",
       "      <td>70.0</td>\n",
       "      <td>2010.0</td>\n",
       "      <td>Duo</td>\n",
       "    </tr>\n",
       "    <tr>\n",
       "      <th>1</th>\n",
       "      <td>My First Kiss (feat. Ke$ha)</td>\n",
       "      <td>3OH!3</td>\n",
       "      <td>dance pop</td>\n",
       "      <td>2010.0</td>\n",
       "      <td>2022‑02‑17</td>\n",
       "      <td>138.0</td>\n",
       "      <td>89.0</td>\n",
       "      <td>68.0</td>\n",
       "      <td>-4.0</td>\n",
       "      <td>36.0</td>\n",
       "      <td>83.0</td>\n",
       "      <td>192.0</td>\n",
       "      <td>1.0</td>\n",
       "      <td>8.0</td>\n",
       "      <td>68.0</td>\n",
       "      <td>2010.0</td>\n",
       "      <td>Duo</td>\n",
       "    </tr>\n",
       "    <tr>\n",
       "      <th>2</th>\n",
       "      <td>I Need A Dollar</td>\n",
       "      <td>Aloe Blacc</td>\n",
       "      <td>pop soul</td>\n",
       "      <td>2010.0</td>\n",
       "      <td>2022‑02‑17</td>\n",
       "      <td>95.0</td>\n",
       "      <td>48.0</td>\n",
       "      <td>84.0</td>\n",
       "      <td>-7.0</td>\n",
       "      <td>9.0</td>\n",
       "      <td>96.0</td>\n",
       "      <td>243.0</td>\n",
       "      <td>20.0</td>\n",
       "      <td>3.0</td>\n",
       "      <td>72.0</td>\n",
       "      <td>2010.0</td>\n",
       "      <td>Solo</td>\n",
       "    </tr>\n",
       "    <tr>\n",
       "      <th>3</th>\n",
       "      <td>Airplanes (feat. Hayley Williams of Paramore)</td>\n",
       "      <td>B.o.B</td>\n",
       "      <td>atl hip hop</td>\n",
       "      <td>2010.0</td>\n",
       "      <td>2022‑02‑17</td>\n",
       "      <td>93.0</td>\n",
       "      <td>87.0</td>\n",
       "      <td>66.0</td>\n",
       "      <td>-4.0</td>\n",
       "      <td>4.0</td>\n",
       "      <td>38.0</td>\n",
       "      <td>180.0</td>\n",
       "      <td>11.0</td>\n",
       "      <td>12.0</td>\n",
       "      <td>80.0</td>\n",
       "      <td>2010.0</td>\n",
       "      <td>Solo</td>\n",
       "    </tr>\n",
       "    <tr>\n",
       "      <th>4</th>\n",
       "      <td>Nothin' on You (feat. Bruno Mars)</td>\n",
       "      <td>B.o.B</td>\n",
       "      <td>atl hip hop</td>\n",
       "      <td>2010.0</td>\n",
       "      <td>2022‑02‑17</td>\n",
       "      <td>104.0</td>\n",
       "      <td>85.0</td>\n",
       "      <td>69.0</td>\n",
       "      <td>-6.0</td>\n",
       "      <td>9.0</td>\n",
       "      <td>74.0</td>\n",
       "      <td>268.0</td>\n",
       "      <td>39.0</td>\n",
       "      <td>5.0</td>\n",
       "      <td>79.0</td>\n",
       "      <td>2010.0</td>\n",
       "      <td>Solo</td>\n",
       "    </tr>\n",
       "  </tbody>\n",
       "</table>\n",
       "</div>"
      ],
      "text/plain": [
       "                                           title      artist    top genre  \\\n",
       "0                  STARSTRUKK (feat. Katy Perry)       3OH!3    dance pop   \n",
       "1                    My First Kiss (feat. Ke$ha)       3OH!3    dance pop   \n",
       "2                                I Need A Dollar  Aloe Blacc     pop soul   \n",
       "3  Airplanes (feat. Hayley Williams of Paramore)       B.o.B  atl hip hop   \n",
       "4              Nothin' on You (feat. Bruno Mars)       B.o.B  atl hip hop   \n",
       "\n",
       "   year released       added    bpm  nrgy  dnce   dB  live   val    dur  \\\n",
       "0         2009.0  2022‑02‑17  140.0  81.0  61.0 -6.0  23.0  23.0  203.0   \n",
       "1         2010.0  2022‑02‑17  138.0  89.0  68.0 -4.0  36.0  83.0  192.0   \n",
       "2         2010.0  2022‑02‑17   95.0  48.0  84.0 -7.0   9.0  96.0  243.0   \n",
       "3         2010.0  2022‑02‑17   93.0  87.0  66.0 -4.0   4.0  38.0  180.0   \n",
       "4         2010.0  2022‑02‑17  104.0  85.0  69.0 -6.0   9.0  74.0  268.0   \n",
       "\n",
       "   acous  spch   pop  top year artist type  \n",
       "0    0.0   6.0  70.0    2010.0         Duo  \n",
       "1    1.0   8.0  68.0    2010.0         Duo  \n",
       "2   20.0   3.0  72.0    2010.0        Solo  \n",
       "3   11.0  12.0  80.0    2010.0        Solo  \n",
       "4   39.0   5.0  79.0    2010.0        Solo  "
      ]
     },
     "execution_count": 3,
     "metadata": {},
     "output_type": "execute_result"
    }
   ],
   "source": [
    "songs = pd.read_csv(\"../input/spotify-top-100-songs-of-20152019/Spotify 2010 - 2019 Top 100.csv\")\n",
    "songs.head()"
   ]
  },
  {
   "cell_type": "code",
   "execution_count": 4,
   "id": "59a2b3a7",
   "metadata": {
    "execution": {
     "iopub.execute_input": "2022-05-10T08:40:20.356927Z",
     "iopub.status.busy": "2022-05-10T08:40:20.356671Z",
     "iopub.status.idle": "2022-05-10T08:40:20.368374Z",
     "shell.execute_reply": "2022-05-10T08:40:20.367488Z"
    },
    "papermill": {
     "duration": 0.030431,
     "end_time": "2022-05-10T08:40:20.370279",
     "exception": false,
     "start_time": "2022-05-10T08:40:20.339848",
     "status": "completed"
    },
    "tags": []
   },
   "outputs": [
    {
     "data": {
      "text/plain": [
       "0                  3OH!3\n",
       "1                  3OH!3\n",
       "2             Aloe Blacc\n",
       "3                  B.o.B\n",
       "4                  B.o.B\n",
       "              ...       \n",
       "998     Young T & Bugsey\n",
       "999           Young Thug\n",
       "1000                 NaN\n",
       "1001                 NaN\n",
       "1002                 NaN\n",
       "Name: artist, Length: 1003, dtype: object"
      ]
     },
     "execution_count": 4,
     "metadata": {},
     "output_type": "execute_result"
    }
   ],
   "source": [
    "songs.artist"
   ]
  },
  {
   "cell_type": "markdown",
   "id": "d514649f",
   "metadata": {
    "papermill": {
     "duration": 0.016066,
     "end_time": "2022-05-10T08:40:20.402591",
     "exception": false,
     "start_time": "2022-05-10T08:40:20.386525",
     "status": "completed"
    },
    "tags": []
   },
   "source": [
    "# **Manipulating the Dataset in accordance.**"
   ]
  },
  {
   "cell_type": "code",
   "execution_count": 5,
   "id": "3b67fff7",
   "metadata": {
    "execution": {
     "iopub.execute_input": "2022-05-10T08:40:20.435911Z",
     "iopub.status.busy": "2022-05-10T08:40:20.435629Z",
     "iopub.status.idle": "2022-05-10T08:40:20.443066Z",
     "shell.execute_reply": "2022-05-10T08:40:20.442166Z"
    },
    "papermill": {
     "duration": 0.026439,
     "end_time": "2022-05-10T08:40:20.444958",
     "exception": false,
     "start_time": "2022-05-10T08:40:20.418519",
     "status": "completed"
    },
    "tags": []
   },
   "outputs": [
    {
     "data": {
      "text/plain": [
       "0         dance pop\n",
       "1         dance pop\n",
       "2          pop soul\n",
       "3       atl hip hop\n",
       "4       atl hip hop\n",
       "           ...     \n",
       "998       afroswing\n",
       "999     atl hip hop\n",
       "1000            NaN\n",
       "1001            NaN\n",
       "1002            NaN\n",
       "Name: top genre, Length: 1003, dtype: object"
      ]
     },
     "execution_count": 5,
     "metadata": {},
     "output_type": "execute_result"
    }
   ],
   "source": [
    "songs['top genre']"
   ]
  },
  {
   "cell_type": "code",
   "execution_count": 6,
   "id": "458d07c2",
   "metadata": {
    "execution": {
     "iopub.execute_input": "2022-05-10T08:40:20.480604Z",
     "iopub.status.busy": "2022-05-10T08:40:20.479903Z",
     "iopub.status.idle": "2022-05-10T08:40:20.503278Z",
     "shell.execute_reply": "2022-05-10T08:40:20.502361Z"
    },
    "papermill": {
     "duration": 0.043404,
     "end_time": "2022-05-10T08:40:20.505214",
     "exception": false,
     "start_time": "2022-05-10T08:40:20.461810",
     "status": "completed"
    },
    "tags": []
   },
   "outputs": [
    {
     "name": "stdout",
     "output_type": "stream",
     "text": [
      "<class 'pandas.core.frame.DataFrame'>\n",
      "RangeIndex: 1003 entries, 0 to 1002\n",
      "Data columns (total 17 columns):\n",
      " #   Column         Non-Null Count  Dtype  \n",
      "---  ------         --------------  -----  \n",
      " 0   title          1000 non-null   object \n",
      " 1   artist         1000 non-null   object \n",
      " 2   top genre      1000 non-null   object \n",
      " 3   year released  1000 non-null   float64\n",
      " 4   added          1000 non-null   object \n",
      " 5   bpm            1000 non-null   float64\n",
      " 6   nrgy           1000 non-null   float64\n",
      " 7   dnce           1000 non-null   float64\n",
      " 8   dB             1000 non-null   float64\n",
      " 9   live           1000 non-null   float64\n",
      " 10  val            1000 non-null   float64\n",
      " 11  dur            1000 non-null   float64\n",
      " 12  acous          1000 non-null   float64\n",
      " 13  spch           1000 non-null   float64\n",
      " 14  pop            1000 non-null   float64\n",
      " 15  top year       1000 non-null   float64\n",
      " 16  artist type    1000 non-null   object \n",
      "dtypes: float64(12), object(5)\n",
      "memory usage: 133.3+ KB\n"
     ]
    },
    {
     "data": {
      "text/plain": [
       "Index(['title', 'artist', 'top genre', 'year released', 'added', 'bpm', 'nrgy',\n",
       "       'dnce', 'dB', 'live', 'val', 'dur', 'acous', 'spch', 'pop', 'top year',\n",
       "       'artist type'],\n",
       "      dtype='object')"
      ]
     },
     "execution_count": 6,
     "metadata": {},
     "output_type": "execute_result"
    }
   ],
   "source": [
    "# Information about the data columns\n",
    "songs.info()\n",
    "\n",
    "# Printing column labels\n",
    "songs.columns"
   ]
  },
  {
   "cell_type": "markdown",
   "id": "6b5d39bf",
   "metadata": {
    "papermill": {
     "duration": 0.016725,
     "end_time": "2022-05-10T08:40:20.540952",
     "exception": false,
     "start_time": "2022-05-10T08:40:20.524227",
     "status": "completed"
    },
    "tags": []
   },
   "source": [
    "# **Dealing with NULL values**\n",
    "\n",
    "* Dropping the NULL values(Using the simplest approach)"
   ]
  },
  {
   "cell_type": "code",
   "execution_count": 7,
   "id": "7b187202",
   "metadata": {
    "execution": {
     "iopub.execute_input": "2022-05-10T08:40:20.576548Z",
     "iopub.status.busy": "2022-05-10T08:40:20.575875Z",
     "iopub.status.idle": "2022-05-10T08:40:20.582890Z",
     "shell.execute_reply": "2022-05-10T08:40:20.582199Z"
    },
    "papermill": {
     "duration": 0.027031,
     "end_time": "2022-05-10T08:40:20.584859",
     "exception": false,
     "start_time": "2022-05-10T08:40:20.557828",
     "status": "completed"
    },
    "tags": []
   },
   "outputs": [
    {
     "name": "stdout",
     "output_type": "stream",
     "text": [
      "title            3\n",
      "artist           3\n",
      "top genre        3\n",
      "year released    3\n",
      "added            3\n",
      "bpm              3\n",
      "nrgy             3\n",
      "dnce             3\n",
      "dB               3\n",
      "live             3\n",
      "val              3\n",
      "dur              3\n",
      "acous            3\n",
      "spch             3\n",
      "pop              3\n",
      "top year         3\n",
      "artist type      3\n",
      "dtype: int64\n"
     ]
    }
   ],
   "source": [
    "songs_missing_vals = (songs.isnull().sum())\n",
    "print(songs_missing_vals[songs_missing_vals > 0])"
   ]
  },
  {
   "cell_type": "code",
   "execution_count": 8,
   "id": "81da334c",
   "metadata": {
    "execution": {
     "iopub.execute_input": "2022-05-10T08:40:20.621041Z",
     "iopub.status.busy": "2022-05-10T08:40:20.620314Z",
     "iopub.status.idle": "2022-05-10T08:40:20.650734Z",
     "shell.execute_reply": "2022-05-10T08:40:20.649837Z"
    },
    "papermill": {
     "duration": 0.050873,
     "end_time": "2022-05-10T08:40:20.653010",
     "exception": false,
     "start_time": "2022-05-10T08:40:20.602137",
     "status": "completed"
    },
    "tags": []
   },
   "outputs": [
    {
     "data": {
      "text/html": [
       "<div>\n",
       "<style scoped>\n",
       "    .dataframe tbody tr th:only-of-type {\n",
       "        vertical-align: middle;\n",
       "    }\n",
       "\n",
       "    .dataframe tbody tr th {\n",
       "        vertical-align: top;\n",
       "    }\n",
       "\n",
       "    .dataframe thead th {\n",
       "        text-align: right;\n",
       "    }\n",
       "</style>\n",
       "<table border=\"1\" class=\"dataframe\">\n",
       "  <thead>\n",
       "    <tr style=\"text-align: right;\">\n",
       "      <th></th>\n",
       "      <th>title</th>\n",
       "      <th>artist</th>\n",
       "      <th>top genre</th>\n",
       "      <th>year released</th>\n",
       "      <th>added</th>\n",
       "      <th>bpm</th>\n",
       "      <th>nrgy</th>\n",
       "      <th>dnce</th>\n",
       "      <th>dB</th>\n",
       "      <th>live</th>\n",
       "      <th>val</th>\n",
       "      <th>dur</th>\n",
       "      <th>acous</th>\n",
       "      <th>spch</th>\n",
       "      <th>pop</th>\n",
       "      <th>top year</th>\n",
       "      <th>artist type</th>\n",
       "    </tr>\n",
       "  </thead>\n",
       "  <tbody>\n",
       "    <tr>\n",
       "      <th>0</th>\n",
       "      <td>STARSTRUKK (feat. Katy Perry)</td>\n",
       "      <td>3OH!3</td>\n",
       "      <td>dance pop</td>\n",
       "      <td>2009.0</td>\n",
       "      <td>2022‑02‑17</td>\n",
       "      <td>140.0</td>\n",
       "      <td>81.0</td>\n",
       "      <td>61.0</td>\n",
       "      <td>-6.0</td>\n",
       "      <td>23.0</td>\n",
       "      <td>23.0</td>\n",
       "      <td>203.0</td>\n",
       "      <td>0.0</td>\n",
       "      <td>6.0</td>\n",
       "      <td>70.0</td>\n",
       "      <td>2010.0</td>\n",
       "      <td>Duo</td>\n",
       "    </tr>\n",
       "    <tr>\n",
       "      <th>1</th>\n",
       "      <td>My First Kiss (feat. Ke$ha)</td>\n",
       "      <td>3OH!3</td>\n",
       "      <td>dance pop</td>\n",
       "      <td>2010.0</td>\n",
       "      <td>2022‑02‑17</td>\n",
       "      <td>138.0</td>\n",
       "      <td>89.0</td>\n",
       "      <td>68.0</td>\n",
       "      <td>-4.0</td>\n",
       "      <td>36.0</td>\n",
       "      <td>83.0</td>\n",
       "      <td>192.0</td>\n",
       "      <td>1.0</td>\n",
       "      <td>8.0</td>\n",
       "      <td>68.0</td>\n",
       "      <td>2010.0</td>\n",
       "      <td>Duo</td>\n",
       "    </tr>\n",
       "    <tr>\n",
       "      <th>2</th>\n",
       "      <td>I Need A Dollar</td>\n",
       "      <td>Aloe Blacc</td>\n",
       "      <td>pop soul</td>\n",
       "      <td>2010.0</td>\n",
       "      <td>2022‑02‑17</td>\n",
       "      <td>95.0</td>\n",
       "      <td>48.0</td>\n",
       "      <td>84.0</td>\n",
       "      <td>-7.0</td>\n",
       "      <td>9.0</td>\n",
       "      <td>96.0</td>\n",
       "      <td>243.0</td>\n",
       "      <td>20.0</td>\n",
       "      <td>3.0</td>\n",
       "      <td>72.0</td>\n",
       "      <td>2010.0</td>\n",
       "      <td>Solo</td>\n",
       "    </tr>\n",
       "    <tr>\n",
       "      <th>3</th>\n",
       "      <td>Airplanes (feat. Hayley Williams of Paramore)</td>\n",
       "      <td>B.o.B</td>\n",
       "      <td>atl hip hop</td>\n",
       "      <td>2010.0</td>\n",
       "      <td>2022‑02‑17</td>\n",
       "      <td>93.0</td>\n",
       "      <td>87.0</td>\n",
       "      <td>66.0</td>\n",
       "      <td>-4.0</td>\n",
       "      <td>4.0</td>\n",
       "      <td>38.0</td>\n",
       "      <td>180.0</td>\n",
       "      <td>11.0</td>\n",
       "      <td>12.0</td>\n",
       "      <td>80.0</td>\n",
       "      <td>2010.0</td>\n",
       "      <td>Solo</td>\n",
       "    </tr>\n",
       "    <tr>\n",
       "      <th>4</th>\n",
       "      <td>Nothin' on You (feat. Bruno Mars)</td>\n",
       "      <td>B.o.B</td>\n",
       "      <td>atl hip hop</td>\n",
       "      <td>2010.0</td>\n",
       "      <td>2022‑02‑17</td>\n",
       "      <td>104.0</td>\n",
       "      <td>85.0</td>\n",
       "      <td>69.0</td>\n",
       "      <td>-6.0</td>\n",
       "      <td>9.0</td>\n",
       "      <td>74.0</td>\n",
       "      <td>268.0</td>\n",
       "      <td>39.0</td>\n",
       "      <td>5.0</td>\n",
       "      <td>79.0</td>\n",
       "      <td>2010.0</td>\n",
       "      <td>Solo</td>\n",
       "    </tr>\n",
       "    <tr>\n",
       "      <th>...</th>\n",
       "      <td>...</td>\n",
       "      <td>...</td>\n",
       "      <td>...</td>\n",
       "      <td>...</td>\n",
       "      <td>...</td>\n",
       "      <td>...</td>\n",
       "      <td>...</td>\n",
       "      <td>...</td>\n",
       "      <td>...</td>\n",
       "      <td>...</td>\n",
       "      <td>...</td>\n",
       "      <td>...</td>\n",
       "      <td>...</td>\n",
       "      <td>...</td>\n",
       "      <td>...</td>\n",
       "      <td>...</td>\n",
       "      <td>...</td>\n",
       "    </tr>\n",
       "    <tr>\n",
       "      <th>998</th>\n",
       "      <td>Strike a Pose (feat. Aitch)</td>\n",
       "      <td>Young T &amp; Bugsey</td>\n",
       "      <td>afroswing</td>\n",
       "      <td>2019.0</td>\n",
       "      <td>2020‑08‑20</td>\n",
       "      <td>138.0</td>\n",
       "      <td>58.0</td>\n",
       "      <td>53.0</td>\n",
       "      <td>-6.0</td>\n",
       "      <td>10.0</td>\n",
       "      <td>59.0</td>\n",
       "      <td>214.0</td>\n",
       "      <td>1.0</td>\n",
       "      <td>10.0</td>\n",
       "      <td>67.0</td>\n",
       "      <td>2019.0</td>\n",
       "      <td>Duo</td>\n",
       "    </tr>\n",
       "    <tr>\n",
       "      <th>999</th>\n",
       "      <td>The London (feat. J. Cole &amp; Travis Scott)</td>\n",
       "      <td>Young Thug</td>\n",
       "      <td>atl hip hop</td>\n",
       "      <td>2019.0</td>\n",
       "      <td>2020‑06‑22</td>\n",
       "      <td>98.0</td>\n",
       "      <td>59.0</td>\n",
       "      <td>80.0</td>\n",
       "      <td>-7.0</td>\n",
       "      <td>13.0</td>\n",
       "      <td>18.0</td>\n",
       "      <td>200.0</td>\n",
       "      <td>2.0</td>\n",
       "      <td>15.0</td>\n",
       "      <td>75.0</td>\n",
       "      <td>2019.0</td>\n",
       "      <td>Solo</td>\n",
       "    </tr>\n",
       "    <tr>\n",
       "      <th>1000</th>\n",
       "      <td>Unkonwn</td>\n",
       "      <td>Unkonwn</td>\n",
       "      <td>Unkonwn</td>\n",
       "      <td>Unkonwn</td>\n",
       "      <td>Unkonwn</td>\n",
       "      <td>Unkonwn</td>\n",
       "      <td>Unkonwn</td>\n",
       "      <td>Unkonwn</td>\n",
       "      <td>Unkonwn</td>\n",
       "      <td>Unkonwn</td>\n",
       "      <td>Unkonwn</td>\n",
       "      <td>Unkonwn</td>\n",
       "      <td>Unkonwn</td>\n",
       "      <td>Unkonwn</td>\n",
       "      <td>Unkonwn</td>\n",
       "      <td>Unkonwn</td>\n",
       "      <td>Unkonwn</td>\n",
       "    </tr>\n",
       "    <tr>\n",
       "      <th>1001</th>\n",
       "      <td>Unkonwn</td>\n",
       "      <td>Unkonwn</td>\n",
       "      <td>Unkonwn</td>\n",
       "      <td>Unkonwn</td>\n",
       "      <td>Unkonwn</td>\n",
       "      <td>Unkonwn</td>\n",
       "      <td>Unkonwn</td>\n",
       "      <td>Unkonwn</td>\n",
       "      <td>Unkonwn</td>\n",
       "      <td>Unkonwn</td>\n",
       "      <td>Unkonwn</td>\n",
       "      <td>Unkonwn</td>\n",
       "      <td>Unkonwn</td>\n",
       "      <td>Unkonwn</td>\n",
       "      <td>Unkonwn</td>\n",
       "      <td>Unkonwn</td>\n",
       "      <td>Unkonwn</td>\n",
       "    </tr>\n",
       "    <tr>\n",
       "      <th>1002</th>\n",
       "      <td>Unkonwn</td>\n",
       "      <td>Unkonwn</td>\n",
       "      <td>Unkonwn</td>\n",
       "      <td>Unkonwn</td>\n",
       "      <td>Unkonwn</td>\n",
       "      <td>Unkonwn</td>\n",
       "      <td>Unkonwn</td>\n",
       "      <td>Unkonwn</td>\n",
       "      <td>Unkonwn</td>\n",
       "      <td>Unkonwn</td>\n",
       "      <td>Unkonwn</td>\n",
       "      <td>Unkonwn</td>\n",
       "      <td>Unkonwn</td>\n",
       "      <td>Unkonwn</td>\n",
       "      <td>Unkonwn</td>\n",
       "      <td>Unkonwn</td>\n",
       "      <td>Unkonwn</td>\n",
       "    </tr>\n",
       "  </tbody>\n",
       "</table>\n",
       "<p>1003 rows × 17 columns</p>\n",
       "</div>"
      ],
      "text/plain": [
       "                                              title            artist  \\\n",
       "0                     STARSTRUKK (feat. Katy Perry)             3OH!3   \n",
       "1                       My First Kiss (feat. Ke$ha)             3OH!3   \n",
       "2                                   I Need A Dollar        Aloe Blacc   \n",
       "3     Airplanes (feat. Hayley Williams of Paramore)             B.o.B   \n",
       "4                 Nothin' on You (feat. Bruno Mars)             B.o.B   \n",
       "...                                             ...               ...   \n",
       "998                     Strike a Pose (feat. Aitch)  Young T & Bugsey   \n",
       "999       The London (feat. J. Cole & Travis Scott)        Young Thug   \n",
       "1000                                        Unkonwn           Unkonwn   \n",
       "1001                                        Unkonwn           Unkonwn   \n",
       "1002                                        Unkonwn           Unkonwn   \n",
       "\n",
       "        top genre year released       added      bpm     nrgy     dnce  \\\n",
       "0       dance pop        2009.0  2022‑02‑17    140.0     81.0     61.0   \n",
       "1       dance pop        2010.0  2022‑02‑17    138.0     89.0     68.0   \n",
       "2        pop soul        2010.0  2022‑02‑17     95.0     48.0     84.0   \n",
       "3     atl hip hop        2010.0  2022‑02‑17     93.0     87.0     66.0   \n",
       "4     atl hip hop        2010.0  2022‑02‑17    104.0     85.0     69.0   \n",
       "...           ...           ...         ...      ...      ...      ...   \n",
       "998     afroswing        2019.0  2020‑08‑20    138.0     58.0     53.0   \n",
       "999   atl hip hop        2019.0  2020‑06‑22     98.0     59.0     80.0   \n",
       "1000      Unkonwn       Unkonwn     Unkonwn  Unkonwn  Unkonwn  Unkonwn   \n",
       "1001      Unkonwn       Unkonwn     Unkonwn  Unkonwn  Unkonwn  Unkonwn   \n",
       "1002      Unkonwn       Unkonwn     Unkonwn  Unkonwn  Unkonwn  Unkonwn   \n",
       "\n",
       "           dB     live      val      dur    acous     spch      pop top year  \\\n",
       "0        -6.0     23.0     23.0    203.0      0.0      6.0     70.0   2010.0   \n",
       "1        -4.0     36.0     83.0    192.0      1.0      8.0     68.0   2010.0   \n",
       "2        -7.0      9.0     96.0    243.0     20.0      3.0     72.0   2010.0   \n",
       "3        -4.0      4.0     38.0    180.0     11.0     12.0     80.0   2010.0   \n",
       "4        -6.0      9.0     74.0    268.0     39.0      5.0     79.0   2010.0   \n",
       "...       ...      ...      ...      ...      ...      ...      ...      ...   \n",
       "998      -6.0     10.0     59.0    214.0      1.0     10.0     67.0   2019.0   \n",
       "999      -7.0     13.0     18.0    200.0      2.0     15.0     75.0   2019.0   \n",
       "1000  Unkonwn  Unkonwn  Unkonwn  Unkonwn  Unkonwn  Unkonwn  Unkonwn  Unkonwn   \n",
       "1001  Unkonwn  Unkonwn  Unkonwn  Unkonwn  Unkonwn  Unkonwn  Unkonwn  Unkonwn   \n",
       "1002  Unkonwn  Unkonwn  Unkonwn  Unkonwn  Unkonwn  Unkonwn  Unkonwn  Unkonwn   \n",
       "\n",
       "     artist type  \n",
       "0            Duo  \n",
       "1            Duo  \n",
       "2           Solo  \n",
       "3           Solo  \n",
       "4           Solo  \n",
       "...          ...  \n",
       "998          Duo  \n",
       "999         Solo  \n",
       "1000     Unkonwn  \n",
       "1001     Unkonwn  \n",
       "1002     Unkonwn  \n",
       "\n",
       "[1003 rows x 17 columns]"
      ]
     },
     "execution_count": 8,
     "metadata": {},
     "output_type": "execute_result"
    }
   ],
   "source": [
    "songs2 = songs.fillna(\"Unkonwn\")\n",
    "songs2"
   ]
  },
  {
   "cell_type": "code",
   "execution_count": 9,
   "id": "a36e5f9c",
   "metadata": {
    "execution": {
     "iopub.execute_input": "2022-05-10T08:40:20.690537Z",
     "iopub.status.busy": "2022-05-10T08:40:20.690002Z",
     "iopub.status.idle": "2022-05-10T08:40:20.711717Z",
     "shell.execute_reply": "2022-05-10T08:40:20.710854Z"
    },
    "papermill": {
     "duration": 0.042759,
     "end_time": "2022-05-10T08:40:20.713718",
     "exception": false,
     "start_time": "2022-05-10T08:40:20.670959",
     "status": "completed"
    },
    "tags": []
   },
   "outputs": [
    {
     "data": {
      "text/html": [
       "<div>\n",
       "<style scoped>\n",
       "    .dataframe tbody tr th:only-of-type {\n",
       "        vertical-align: middle;\n",
       "    }\n",
       "\n",
       "    .dataframe tbody tr th {\n",
       "        vertical-align: top;\n",
       "    }\n",
       "\n",
       "    .dataframe thead th {\n",
       "        text-align: right;\n",
       "    }\n",
       "</style>\n",
       "<table border=\"1\" class=\"dataframe\">\n",
       "  <thead>\n",
       "    <tr style=\"text-align: right;\">\n",
       "      <th></th>\n",
       "      <th>title</th>\n",
       "      <th>artist</th>\n",
       "      <th>top genre</th>\n",
       "      <th>year released</th>\n",
       "      <th>added</th>\n",
       "      <th>bpm</th>\n",
       "      <th>nrgy</th>\n",
       "      <th>dnce</th>\n",
       "      <th>dB</th>\n",
       "      <th>live</th>\n",
       "      <th>val</th>\n",
       "      <th>dur</th>\n",
       "      <th>acous</th>\n",
       "      <th>spch</th>\n",
       "      <th>pop</th>\n",
       "      <th>top year</th>\n",
       "      <th>artist type</th>\n",
       "    </tr>\n",
       "  </thead>\n",
       "  <tbody>\n",
       "    <tr>\n",
       "      <th>0</th>\n",
       "      <td>STARSTRUKK (feat. Katy Perry)</td>\n",
       "      <td>3OH!3</td>\n",
       "      <td>dance pop</td>\n",
       "      <td>2009.0</td>\n",
       "      <td>2022‑02‑17</td>\n",
       "      <td>140.0</td>\n",
       "      <td>81.0</td>\n",
       "      <td>61.0</td>\n",
       "      <td>-6.0</td>\n",
       "      <td>23.0</td>\n",
       "      <td>23.0</td>\n",
       "      <td>203.0</td>\n",
       "      <td>0.0</td>\n",
       "      <td>6.0</td>\n",
       "      <td>70.0</td>\n",
       "      <td>2010.0</td>\n",
       "      <td>Duo</td>\n",
       "    </tr>\n",
       "    <tr>\n",
       "      <th>1</th>\n",
       "      <td>My First Kiss (feat. Ke$ha)</td>\n",
       "      <td>3OH!3</td>\n",
       "      <td>dance pop</td>\n",
       "      <td>2010.0</td>\n",
       "      <td>2022‑02‑17</td>\n",
       "      <td>138.0</td>\n",
       "      <td>89.0</td>\n",
       "      <td>68.0</td>\n",
       "      <td>-4.0</td>\n",
       "      <td>36.0</td>\n",
       "      <td>83.0</td>\n",
       "      <td>192.0</td>\n",
       "      <td>1.0</td>\n",
       "      <td>8.0</td>\n",
       "      <td>68.0</td>\n",
       "      <td>2010.0</td>\n",
       "      <td>Duo</td>\n",
       "    </tr>\n",
       "    <tr>\n",
       "      <th>2</th>\n",
       "      <td>I Need A Dollar</td>\n",
       "      <td>Aloe Blacc</td>\n",
       "      <td>pop soul</td>\n",
       "      <td>2010.0</td>\n",
       "      <td>2022‑02‑17</td>\n",
       "      <td>95.0</td>\n",
       "      <td>48.0</td>\n",
       "      <td>84.0</td>\n",
       "      <td>-7.0</td>\n",
       "      <td>9.0</td>\n",
       "      <td>96.0</td>\n",
       "      <td>243.0</td>\n",
       "      <td>20.0</td>\n",
       "      <td>3.0</td>\n",
       "      <td>72.0</td>\n",
       "      <td>2010.0</td>\n",
       "      <td>Solo</td>\n",
       "    </tr>\n",
       "    <tr>\n",
       "      <th>3</th>\n",
       "      <td>Airplanes (feat. Hayley Williams of Paramore)</td>\n",
       "      <td>B.o.B</td>\n",
       "      <td>atl hip hop</td>\n",
       "      <td>2010.0</td>\n",
       "      <td>2022‑02‑17</td>\n",
       "      <td>93.0</td>\n",
       "      <td>87.0</td>\n",
       "      <td>66.0</td>\n",
       "      <td>-4.0</td>\n",
       "      <td>4.0</td>\n",
       "      <td>38.0</td>\n",
       "      <td>180.0</td>\n",
       "      <td>11.0</td>\n",
       "      <td>12.0</td>\n",
       "      <td>80.0</td>\n",
       "      <td>2010.0</td>\n",
       "      <td>Solo</td>\n",
       "    </tr>\n",
       "    <tr>\n",
       "      <th>4</th>\n",
       "      <td>Nothin' on You (feat. Bruno Mars)</td>\n",
       "      <td>B.o.B</td>\n",
       "      <td>atl hip hop</td>\n",
       "      <td>2010.0</td>\n",
       "      <td>2022‑02‑17</td>\n",
       "      <td>104.0</td>\n",
       "      <td>85.0</td>\n",
       "      <td>69.0</td>\n",
       "      <td>-6.0</td>\n",
       "      <td>9.0</td>\n",
       "      <td>74.0</td>\n",
       "      <td>268.0</td>\n",
       "      <td>39.0</td>\n",
       "      <td>5.0</td>\n",
       "      <td>79.0</td>\n",
       "      <td>2010.0</td>\n",
       "      <td>Solo</td>\n",
       "    </tr>\n",
       "    <tr>\n",
       "      <th>...</th>\n",
       "      <td>...</td>\n",
       "      <td>...</td>\n",
       "      <td>...</td>\n",
       "      <td>...</td>\n",
       "      <td>...</td>\n",
       "      <td>...</td>\n",
       "      <td>...</td>\n",
       "      <td>...</td>\n",
       "      <td>...</td>\n",
       "      <td>...</td>\n",
       "      <td>...</td>\n",
       "      <td>...</td>\n",
       "      <td>...</td>\n",
       "      <td>...</td>\n",
       "      <td>...</td>\n",
       "      <td>...</td>\n",
       "      <td>...</td>\n",
       "    </tr>\n",
       "    <tr>\n",
       "      <th>995</th>\n",
       "      <td>SICKO MODE</td>\n",
       "      <td>Travis Scott</td>\n",
       "      <td>hip hop</td>\n",
       "      <td>2018.0</td>\n",
       "      <td>2020‑06‑22</td>\n",
       "      <td>155.0</td>\n",
       "      <td>73.0</td>\n",
       "      <td>83.0</td>\n",
       "      <td>-4.0</td>\n",
       "      <td>12.0</td>\n",
       "      <td>45.0</td>\n",
       "      <td>313.0</td>\n",
       "      <td>1.0</td>\n",
       "      <td>22.0</td>\n",
       "      <td>86.0</td>\n",
       "      <td>2019.0</td>\n",
       "      <td>Solo</td>\n",
       "    </tr>\n",
       "    <tr>\n",
       "      <th>996</th>\n",
       "      <td>EARFQUAKE</td>\n",
       "      <td>Tyler, The Creator</td>\n",
       "      <td>hip hop</td>\n",
       "      <td>2019.0</td>\n",
       "      <td>2020‑06‑22</td>\n",
       "      <td>80.0</td>\n",
       "      <td>50.0</td>\n",
       "      <td>55.0</td>\n",
       "      <td>-9.0</td>\n",
       "      <td>80.0</td>\n",
       "      <td>41.0</td>\n",
       "      <td>190.0</td>\n",
       "      <td>23.0</td>\n",
       "      <td>7.0</td>\n",
       "      <td>85.0</td>\n",
       "      <td>2019.0</td>\n",
       "      <td>Solo</td>\n",
       "    </tr>\n",
       "    <tr>\n",
       "      <th>997</th>\n",
       "      <td>Boasty (feat. Idris Elba)</td>\n",
       "      <td>Wiley</td>\n",
       "      <td>grime</td>\n",
       "      <td>2019.0</td>\n",
       "      <td>2020‑06‑22</td>\n",
       "      <td>103.0</td>\n",
       "      <td>77.0</td>\n",
       "      <td>89.0</td>\n",
       "      <td>-5.0</td>\n",
       "      <td>9.0</td>\n",
       "      <td>46.0</td>\n",
       "      <td>177.0</td>\n",
       "      <td>1.0</td>\n",
       "      <td>7.0</td>\n",
       "      <td>68.0</td>\n",
       "      <td>2019.0</td>\n",
       "      <td>Solo</td>\n",
       "    </tr>\n",
       "    <tr>\n",
       "      <th>998</th>\n",
       "      <td>Strike a Pose (feat. Aitch)</td>\n",
       "      <td>Young T &amp; Bugsey</td>\n",
       "      <td>afroswing</td>\n",
       "      <td>2019.0</td>\n",
       "      <td>2020‑08‑20</td>\n",
       "      <td>138.0</td>\n",
       "      <td>58.0</td>\n",
       "      <td>53.0</td>\n",
       "      <td>-6.0</td>\n",
       "      <td>10.0</td>\n",
       "      <td>59.0</td>\n",
       "      <td>214.0</td>\n",
       "      <td>1.0</td>\n",
       "      <td>10.0</td>\n",
       "      <td>67.0</td>\n",
       "      <td>2019.0</td>\n",
       "      <td>Duo</td>\n",
       "    </tr>\n",
       "    <tr>\n",
       "      <th>999</th>\n",
       "      <td>The London (feat. J. Cole &amp; Travis Scott)</td>\n",
       "      <td>Young Thug</td>\n",
       "      <td>atl hip hop</td>\n",
       "      <td>2019.0</td>\n",
       "      <td>2020‑06‑22</td>\n",
       "      <td>98.0</td>\n",
       "      <td>59.0</td>\n",
       "      <td>80.0</td>\n",
       "      <td>-7.0</td>\n",
       "      <td>13.0</td>\n",
       "      <td>18.0</td>\n",
       "      <td>200.0</td>\n",
       "      <td>2.0</td>\n",
       "      <td>15.0</td>\n",
       "      <td>75.0</td>\n",
       "      <td>2019.0</td>\n",
       "      <td>Solo</td>\n",
       "    </tr>\n",
       "  </tbody>\n",
       "</table>\n",
       "<p>1000 rows × 17 columns</p>\n",
       "</div>"
      ],
      "text/plain": [
       "                                             title              artist  \\\n",
       "0                    STARSTRUKK (feat. Katy Perry)               3OH!3   \n",
       "1                      My First Kiss (feat. Ke$ha)               3OH!3   \n",
       "2                                  I Need A Dollar          Aloe Blacc   \n",
       "3    Airplanes (feat. Hayley Williams of Paramore)               B.o.B   \n",
       "4                Nothin' on You (feat. Bruno Mars)               B.o.B   \n",
       "..                                             ...                 ...   \n",
       "995                                     SICKO MODE        Travis Scott   \n",
       "996                                      EARFQUAKE  Tyler, The Creator   \n",
       "997                      Boasty (feat. Idris Elba)               Wiley   \n",
       "998                    Strike a Pose (feat. Aitch)    Young T & Bugsey   \n",
       "999      The London (feat. J. Cole & Travis Scott)          Young Thug   \n",
       "\n",
       "       top genre year released       added    bpm  nrgy  dnce   dB  live  \\\n",
       "0      dance pop        2009.0  2022‑02‑17  140.0  81.0  61.0 -6.0  23.0   \n",
       "1      dance pop        2010.0  2022‑02‑17  138.0  89.0  68.0 -4.0  36.0   \n",
       "2       pop soul        2010.0  2022‑02‑17   95.0  48.0  84.0 -7.0   9.0   \n",
       "3    atl hip hop        2010.0  2022‑02‑17   93.0  87.0  66.0 -4.0   4.0   \n",
       "4    atl hip hop        2010.0  2022‑02‑17  104.0  85.0  69.0 -6.0   9.0   \n",
       "..           ...           ...         ...    ...   ...   ...  ...   ...   \n",
       "995      hip hop        2018.0  2020‑06‑22  155.0  73.0  83.0 -4.0  12.0   \n",
       "996      hip hop        2019.0  2020‑06‑22   80.0  50.0  55.0 -9.0  80.0   \n",
       "997        grime        2019.0  2020‑06‑22  103.0  77.0  89.0 -5.0   9.0   \n",
       "998    afroswing        2019.0  2020‑08‑20  138.0  58.0  53.0 -6.0  10.0   \n",
       "999  atl hip hop        2019.0  2020‑06‑22   98.0  59.0  80.0 -7.0  13.0   \n",
       "\n",
       "      val    dur acous  spch   pop top year artist type  \n",
       "0    23.0  203.0   0.0   6.0  70.0   2010.0         Duo  \n",
       "1    83.0  192.0   1.0   8.0  68.0   2010.0         Duo  \n",
       "2    96.0  243.0  20.0   3.0  72.0   2010.0        Solo  \n",
       "3    38.0  180.0  11.0  12.0  80.0   2010.0        Solo  \n",
       "4    74.0  268.0  39.0   5.0  79.0   2010.0        Solo  \n",
       "..    ...    ...   ...   ...   ...      ...         ...  \n",
       "995  45.0  313.0   1.0  22.0  86.0   2019.0        Solo  \n",
       "996  41.0  190.0  23.0   7.0  85.0   2019.0        Solo  \n",
       "997  46.0  177.0   1.0   7.0  68.0   2019.0        Solo  \n",
       "998  59.0  214.0   1.0  10.0  67.0   2019.0         Duo  \n",
       "999  18.0  200.0   2.0  15.0  75.0   2019.0        Solo  \n",
       "\n",
       "[1000 rows x 17 columns]"
      ]
     },
     "execution_count": 9,
     "metadata": {},
     "output_type": "execute_result"
    }
   ],
   "source": [
    "songs3 = songs2.drop(songs2.index[1000:1003], axis=0)\n",
    "songs3"
   ]
  },
  {
   "cell_type": "markdown",
   "id": "85f4b709",
   "metadata": {
    "papermill": {
     "duration": 0.018453,
     "end_time": "2022-05-10T08:40:20.751010",
     "exception": false,
     "start_time": "2022-05-10T08:40:20.732557",
     "status": "completed"
    },
    "tags": []
   },
   "source": [
    "# **Manipulating the data the to use non-numerical values**"
   ]
  },
  {
   "cell_type": "code",
   "execution_count": 10,
   "id": "71fdc468",
   "metadata": {
    "execution": {
     "iopub.execute_input": "2022-05-10T08:40:20.791685Z",
     "iopub.status.busy": "2022-05-10T08:40:20.790787Z",
     "iopub.status.idle": "2022-05-10T08:40:20.797937Z",
     "shell.execute_reply": "2022-05-10T08:40:20.796735Z"
    },
    "papermill": {
     "duration": 0.030746,
     "end_time": "2022-05-10T08:40:20.800637",
     "exception": false,
     "start_time": "2022-05-10T08:40:20.769891",
     "status": "completed"
    },
    "tags": []
   },
   "outputs": [
    {
     "name": "stdout",
     "output_type": "stream",
     "text": [
      "Categorical variables:\n",
      "['title', 'artist', 'top genre', 'added', 'artist type']\n"
     ]
    }
   ],
   "source": [
    "s = (songs.dtypes == 'object')\n",
    "object_cols = list(s[s].index)\n",
    "\n",
    "print(\"Categorical variables:\")\n",
    "print(object_cols)"
   ]
  },
  {
   "cell_type": "markdown",
   "id": "1d3be36d",
   "metadata": {
    "papermill": {
     "duration": 0.019265,
     "end_time": "2022-05-10T08:40:20.839840",
     "exception": false,
     "start_time": "2022-05-10T08:40:20.820575",
     "status": "completed"
    },
    "tags": []
   },
   "source": [
    "# **Score from Approach 3 (One-Hot Encoding)**\n",
    "\n",
    "We use the OneHotEncoder class from scikit-learn to get one-hot encodings. There are a number of parameters that can be used to customize its behavior.\n",
    "\n",
    "* We set handle_unknown='ignore' to avoid errors when the validation data contains classes that aren't represented in the training data, and\n",
    "setting sparse=False ensures that the encoded columns are returned as a numpy array (instead of a sparse matrix).\n",
    "\n",
    "To use the encoder, we supply only the categorical columns that we want to be one-hot encoded. For instance, to encode the training data, we supply X_train[object_cols]. (object_cols in the code cell below is a list of the column names with categorical data, and so X_train[object_cols] contains all of the categorical data in the training set.)"
   ]
  },
  {
   "cell_type": "code",
   "execution_count": 11,
   "id": "92494a2a",
   "metadata": {
    "execution": {
     "iopub.execute_input": "2022-05-10T08:40:20.881311Z",
     "iopub.status.busy": "2022-05-10T08:40:20.880771Z",
     "iopub.status.idle": "2022-05-10T08:40:20.909800Z",
     "shell.execute_reply": "2022-05-10T08:40:20.909033Z"
    },
    "papermill": {
     "duration": 0.052031,
     "end_time": "2022-05-10T08:40:20.911958",
     "exception": false,
     "start_time": "2022-05-10T08:40:20.859927",
     "status": "completed"
    },
    "tags": []
   },
   "outputs": [],
   "source": [
    "#Approch 3 is to be coded and executed\n",
    "\n",
    "OH_encoder = OneHotEncoder(handle_unknown='ignore', sparse=False)\n",
    "OH_cols_songs = pd.DataFrame(OH_encoder.fit_transform(songs[object_cols]))"
   ]
  },
  {
   "cell_type": "markdown",
   "id": "22aba8a6",
   "metadata": {
    "papermill": {
     "duration": 0.020163,
     "end_time": "2022-05-10T08:40:20.951592",
     "exception": false,
     "start_time": "2022-05-10T08:40:20.931429",
     "status": "completed"
    },
    "tags": []
   },
   "source": [
    "# **Plotting the dat**"
   ]
  },
  {
   "cell_type": "markdown",
   "id": "e789484c",
   "metadata": {
    "papermill": {
     "duration": 0.019018,
     "end_time": "2022-05-10T08:40:20.990754",
     "exception": false,
     "start_time": "2022-05-10T08:40:20.971736",
     "status": "completed"
    },
    "tags": []
   },
   "source": [
    "# **Yet to be done**\n",
    "**Grop the songs(column label = 'title') on the bases of artist column values**"
   ]
  },
  {
   "cell_type": "code",
   "execution_count": 12,
   "id": "ad50f9e7",
   "metadata": {
    "execution": {
     "iopub.execute_input": "2022-05-10T08:40:21.031321Z",
     "iopub.status.busy": "2022-05-10T08:40:21.030837Z",
     "iopub.status.idle": "2022-05-10T08:40:23.837254Z",
     "shell.execute_reply": "2022-05-10T08:40:23.836389Z"
    },
    "papermill": {
     "duration": 2.829206,
     "end_time": "2022-05-10T08:40:23.839423",
     "exception": false,
     "start_time": "2022-05-10T08:40:21.010217",
     "status": "completed"
    },
    "tags": []
   },
   "outputs": [
    {
     "data": {
      "text/plain": [
       "<AxesSubplot:xlabel='artist type', ylabel='Count'>"
      ]
     },
     "execution_count": 12,
     "metadata": {},
     "output_type": "execute_result"
    },
    {
     "data": {
      "image/png": "[encoded data removed]",
      "text/plain": [
       "<Figure size 1440x1440 with 2 Axes>"
      ]
     },
     "metadata": {
      "needs_background": "light"
     },
     "output_type": "display_data"
    },
    {
     "data": {
      "image/png": "[encoded data removed]",
      "text/plain": [
       "<Figure size 455.375x360 with 1 Axes>"
      ]
     },
     "metadata": {
      "needs_background": "light"
     },
     "output_type": "display_data"
    }
   ],
   "source": [
    "f, axs = plt.subplots(1, 2, figsize=(20, 20), gridspec_kw=dict(width_ratios=[4, 3]))\n",
    "sns.scatterplot(data=songs, x=\"dur\", y=\"top genre\", hue=\"artist type\", ax=axs[0])\n",
    "sns.displot(data=songs, x=\"dur\", hue=\"artist type\", multiple=\"stack\", kind=\"kde\")\n",
    "sns.histplot(data=songs, x=\"artist type\", hue=\"artist type\", shrink=.8, alpha=.8, legend=False, ax=axs[1])"
   ]
  },
  {
   "cell_type": "code",
   "execution_count": 13,
   "id": "0fc9676d",
   "metadata": {
    "execution": {
     "iopub.execute_input": "2022-05-10T08:40:23.893965Z",
     "iopub.status.busy": "2022-05-10T08:40:23.893716Z",
     "iopub.status.idle": "2022-05-10T08:40:23.896864Z",
     "shell.execute_reply": "2022-05-10T08:40:23.896008Z"
    },
    "papermill": {
     "duration": 0.0324,
     "end_time": "2022-05-10T08:40:23.898625",
     "exception": false,
     "start_time": "2022-05-10T08:40:23.866225",
     "status": "completed"
    },
    "tags": []
   },
   "outputs": [],
   "source": [
    "# songs2 = songs2.artist.replace[]"
   ]
  },
  {
   "cell_type": "code",
   "execution_count": 14,
   "id": "e3698aa3",
   "metadata": {
    "execution": {
     "iopub.execute_input": "2022-05-10T08:40:23.952714Z",
     "iopub.status.busy": "2022-05-10T08:40:23.952426Z",
     "iopub.status.idle": "2022-05-10T08:40:23.956046Z",
     "shell.execute_reply": "2022-05-10T08:40:23.955204Z"
    },
    "papermill": {
     "duration": 0.033273,
     "end_time": "2022-05-10T08:40:23.957981",
     "exception": false,
     "start_time": "2022-05-10T08:40:23.924708",
     "status": "completed"
    },
    "tags": []
   },
   "outputs": [],
   "source": [
    "# y = songs['dur']\n",
    "# songs_features = ['top genre', '', '']\n",
    "# X = songs[songs_features]"
   ]
  },
  {
   "cell_type": "code",
   "execution_count": 15,
   "id": "62127640",
   "metadata": {
    "execution": {
     "iopub.execute_input": "2022-05-10T08:40:24.011752Z",
     "iopub.status.busy": "2022-05-10T08:40:24.011481Z",
     "iopub.status.idle": "2022-05-10T08:40:24.015358Z",
     "shell.execute_reply": "2022-05-10T08:40:24.014503Z"
    },
    "papermill": {
     "duration": 0.033202,
     "end_time": "2022-05-10T08:40:24.017217",
     "exception": false,
     "start_time": "2022-05-10T08:40:23.984015",
     "status": "completed"
    },
    "tags": []
   },
   "outputs": [],
   "source": [
    "# X_train, X_test, y_train, y_test = train_test_split(X, y, test_size = 0.2, random_state = 42)"
   ]
  }
 ],
 "metadata": {
  "kernelspec": {
   "display_name": "Python 3",
   "language": "python",
   "name": "python3"
  },
  "language_info": {
   "codemirror_mode": {
    "name": "ipython",
    "version": 3
   },
   "file_extension": ".py",
   "mimetype": "text/x-python",
   "name": "python",
   "nbconvert_exporter": "python",
   "pygments_lexer": "ipython3",
   "version": "3.7.12"
  },
  "papermill": {
   "default_parameters": {},
   "duration": 15.431915,
   "end_time": "2022-05-10T08:40:24.763696",
   "environment_variables": {},
   "exception": null,
   "input_path": "__notebook__.ipynb",
   "output_path": "__notebook__.ipynb",
   "parameters": {},
   "start_time": "2022-05-10T08:40:09.331781",
   "version": "2.3.4"
  }
 },
 "nbformat": 4,
 "nbformat_minor": 5
}
