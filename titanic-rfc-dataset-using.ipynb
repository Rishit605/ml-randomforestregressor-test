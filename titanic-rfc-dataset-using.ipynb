{
 "cells": [
  {
   "cell_type": "code",
   "execution_count": 1,
   "id": "00bbc2f6",
   "metadata": {
    "_cell_guid": "b1076dfc-b9ad-4769-8c92-a6c4dae69d19",
    "_uuid": "8f2839f25d086af736a60e9eeb907d3b93b6e0e5",
    "execution": {
     "iopub.execute_input": "2022-05-28T07:45:29.278538Z",
     "iopub.status.busy": "2022-05-28T07:45:29.277353Z",
     "iopub.status.idle": "2022-05-28T07:45:29.291478Z",
     "shell.execute_reply": "2022-05-28T07:45:29.290671Z"
    },
    "papermill": {
     "duration": 0.031179,
     "end_time": "2022-05-28T07:45:29.294928",
     "exception": false,
     "start_time": "2022-05-28T07:45:29.263749",
     "status": "completed"
    },
    "tags": []
   },
   "outputs": [
    {
     "name": "stdout",
     "output_type": "stream",
     "text": [
      "/kaggle/input/titanic/train.csv\n",
      "/kaggle/input/titanic/test.csv\n",
      "/kaggle/input/titanic/gender_submission.csv\n"
     ]
    }
   ],
   "source": [
    "# This Python 3 environment comes with many helpful analytics libraries installed\n",
    "# It is defined by the kaggle/python Docker image: https://github.com/kaggle/docker-python\n",
    "# For example, here's several helpful packages to load\n",
    "\n",
    "import numpy as np # linear algebra\n",
    "import pandas as pd # data processing, CSV file I/O (e.g. pd.read_csv)\n",
    "\n",
    "# Input data files are available in the read-only \"../input/\" directory\n",
    "# For example, running this (by clicking run or pressing Shift+Enter) will list all files under the input directory\n",
    "\n",
    "import os\n",
    "for dirname, _, filenames in os.walk('/kaggle/input'):\n",
    "    for filename in filenames:\n",
    "        print(os.path.join(dirname, filename))\n",
    "\n",
    "# You can write up to 20GB to the current directory (/kaggle/working/) that gets preserved as output when you create a version using \"Save & Run All\" \n",
    "# You can also write temporary files to /kaggle/temp/, but they won't be saved outside of the current session"
   ]
  },
  {
   "cell_type": "markdown",
   "id": "fe4b066a",
   "metadata": {
    "papermill": {
     "duration": 0.006829,
     "end_time": "2022-05-28T07:45:29.309542",
     "exception": false,
     "start_time": "2022-05-28T07:45:29.302713",
     "status": "completed"
    },
    "tags": []
   },
   "source": [
    "# **Importing Libraries and Dependencies**"
   ]
  },
  {
   "cell_type": "code",
   "execution_count": 2,
   "id": "25db96e3",
   "metadata": {
    "execution": {
     "iopub.execute_input": "2022-05-28T07:45:29.325991Z",
     "iopub.status.busy": "2022-05-28T07:45:29.325465Z",
     "iopub.status.idle": "2022-05-28T07:45:30.967366Z",
     "shell.execute_reply": "2022-05-28T07:45:30.966338Z"
    },
    "papermill": {
     "duration": 1.653505,
     "end_time": "2022-05-28T07:45:30.970440",
     "exception": false,
     "start_time": "2022-05-28T07:45:29.316935",
     "status": "completed"
    },
    "tags": []
   },
   "outputs": [],
   "source": [
    "from sklearn.ensemble import RandomForestClassifier\n",
    "import seaborn as sns"
   ]
  },
  {
   "cell_type": "markdown",
   "id": "9bbf4bee",
   "metadata": {
    "papermill": {
     "duration": 0.007013,
     "end_time": "2022-05-28T07:45:30.984748",
     "exception": false,
     "start_time": "2022-05-28T07:45:30.977735",
     "status": "completed"
    },
    "tags": []
   },
   "source": [
    "# **Reading the Data**"
   ]
  },
  {
   "cell_type": "code",
   "execution_count": 3,
   "id": "f48ce0b2",
   "metadata": {
    "execution": {
     "iopub.execute_input": "2022-05-28T07:45:31.001032Z",
     "iopub.status.busy": "2022-05-28T07:45:31.000623Z",
     "iopub.status.idle": "2022-05-28T07:45:31.026916Z",
     "shell.execute_reply": "2022-05-28T07:45:31.026119Z"
    },
    "papermill": {
     "duration": 0.037707,
     "end_time": "2022-05-28T07:45:31.029715",
     "exception": false,
     "start_time": "2022-05-28T07:45:30.992008",
     "status": "completed"
    },
    "tags": []
   },
   "outputs": [],
   "source": [
    "tit_train = pd.read_csv('../input/titanic/train.csv')\n",
    "tit_test = pd.read_csv('../input/titanic/test.csv')"
   ]
  },
  {
   "cell_type": "code",
   "execution_count": 4,
   "id": "7d497cf5",
   "metadata": {
    "execution": {
     "iopub.execute_input": "2022-05-28T07:45:31.047252Z",
     "iopub.status.busy": "2022-05-28T07:45:31.046794Z",
     "iopub.status.idle": "2022-05-28T07:45:31.076271Z",
     "shell.execute_reply": "2022-05-28T07:45:31.074611Z"
    },
    "papermill": {
     "duration": 0.042637,
     "end_time": "2022-05-28T07:45:31.079945",
     "exception": false,
     "start_time": "2022-05-28T07:45:31.037308",
     "status": "completed"
    },
    "tags": []
   },
   "outputs": [
    {
     "name": "stdout",
     "output_type": "stream",
     "text": [
      "<class 'pandas.core.frame.DataFrame'>\n",
      "RangeIndex: 891 entries, 0 to 890\n",
      "Data columns (total 12 columns):\n",
      " #   Column       Non-Null Count  Dtype  \n",
      "---  ------       --------------  -----  \n",
      " 0   PassengerId  891 non-null    int64  \n",
      " 1   Survived     891 non-null    int64  \n",
      " 2   Pclass       891 non-null    int64  \n",
      " 3   Name         891 non-null    object \n",
      " 4   Sex          891 non-null    object \n",
      " 5   Age          714 non-null    float64\n",
      " 6   SibSp        891 non-null    int64  \n",
      " 7   Parch        891 non-null    int64  \n",
      " 8   Ticket       891 non-null    object \n",
      " 9   Fare         891 non-null    float64\n",
      " 10  Cabin        204 non-null    object \n",
      " 11  Embarked     889 non-null    object \n",
      "dtypes: float64(2), int64(5), object(5)\n",
      "memory usage: 83.7+ KB\n"
     ]
    }
   ],
   "source": [
    "tit_train.info()"
   ]
  },
  {
   "cell_type": "code",
   "execution_count": 5,
   "id": "bb44ca58",
   "metadata": {
    "execution": {
     "iopub.execute_input": "2022-05-28T07:45:31.098172Z",
     "iopub.status.busy": "2022-05-28T07:45:31.097642Z",
     "iopub.status.idle": "2022-05-28T07:45:31.114240Z",
     "shell.execute_reply": "2022-05-28T07:45:31.113477Z"
    },
    "papermill": {
     "duration": 0.028629,
     "end_time": "2022-05-28T07:45:31.116444",
     "exception": false,
     "start_time": "2022-05-28T07:45:31.087815",
     "status": "completed"
    },
    "tags": []
   },
   "outputs": [
    {
     "data": {
      "text/plain": [
       "(   PassengerId  Survived  Pclass  \\\n",
       " 0            1         0       3   \n",
       " 1            2         1       1   \n",
       " 2            3         1       3   \n",
       " 3            4         1       1   \n",
       " 4            5         0       3   \n",
       " \n",
       "                                                 Name     Sex   Age  SibSp  \\\n",
       " 0                            Braund, Mr. Owen Harris    male  22.0      1   \n",
       " 1  Cumings, Mrs. John Bradley (Florence Briggs Th...  female  38.0      1   \n",
       " 2                             Heikkinen, Miss. Laina  female  26.0      0   \n",
       " 3       Futrelle, Mrs. Jacques Heath (Lily May Peel)  female  35.0      1   \n",
       " 4                           Allen, Mr. William Henry    male  35.0      0   \n",
       " \n",
       "    Parch            Ticket     Fare Cabin Embarked  \n",
       " 0      0         A/5 21171   7.2500   NaN        S  \n",
       " 1      0          PC 17599  71.2833   C85        C  \n",
       " 2      0  STON/O2. 3101282   7.9250   NaN        S  \n",
       " 3      0            113803  53.1000  C123        S  \n",
       " 4      0            373450   8.0500   NaN        S  ,\n",
       " (891, 12))"
      ]
     },
     "execution_count": 5,
     "metadata": {},
     "output_type": "execute_result"
    }
   ],
   "source": [
    "tit_train.head(), tit_train.shape"
   ]
  },
  {
   "cell_type": "code",
   "execution_count": 6,
   "id": "2a7ce277",
   "metadata": {
    "execution": {
     "iopub.execute_input": "2022-05-28T07:45:31.133599Z",
     "iopub.status.busy": "2022-05-28T07:45:31.132981Z",
     "iopub.status.idle": "2022-05-28T07:45:31.141822Z",
     "shell.execute_reply": "2022-05-28T07:45:31.140601Z"
    },
    "papermill": {
     "duration": 0.019921,
     "end_time": "2022-05-28T07:45:31.143852",
     "exception": false,
     "start_time": "2022-05-28T07:45:31.123931",
     "status": "completed"
    },
    "tags": []
   },
   "outputs": [
    {
     "data": {
      "text/plain": [
       "(PassengerId      0\n",
       " Survived         0\n",
       " Pclass           0\n",
       " Name             0\n",
       " Sex              0\n",
       " Age            177\n",
       " SibSp            0\n",
       " Parch            0\n",
       " Ticket           0\n",
       " Fare             0\n",
       " Cabin          687\n",
       " Embarked         2\n",
       " dtype: int64,\n",
       " Index(['PassengerId', 'Survived', 'Pclass', 'Name', 'Sex', 'Age', 'SibSp',\n",
       "        'Parch', 'Ticket', 'Fare', 'Cabin', 'Embarked'],\n",
       "       dtype='object'))"
      ]
     },
     "execution_count": 6,
     "metadata": {},
     "output_type": "execute_result"
    }
   ],
   "source": [
    "tit_train.isnull().sum(), tit_train.columns\n"
   ]
  },
  {
   "cell_type": "code",
   "execution_count": 7,
   "id": "64b0cae9",
   "metadata": {
    "execution": {
     "iopub.execute_input": "2022-05-28T07:45:31.161075Z",
     "iopub.status.busy": "2022-05-28T07:45:31.160417Z",
     "iopub.status.idle": "2022-05-28T07:45:31.168971Z",
     "shell.execute_reply": "2022-05-28T07:45:31.168241Z"
    },
    "papermill": {
     "duration": 0.019699,
     "end_time": "2022-05-28T07:45:31.171069",
     "exception": false,
     "start_time": "2022-05-28T07:45:31.151370",
     "status": "completed"
    },
    "tags": []
   },
   "outputs": [
    {
     "data": {
      "text/plain": [
       "(PassengerId      0\n",
       " Pclass           0\n",
       " Name             0\n",
       " Sex              0\n",
       " Age             86\n",
       " SibSp            0\n",
       " Parch            0\n",
       " Ticket           0\n",
       " Fare             1\n",
       " Cabin          327\n",
       " Embarked         0\n",
       " dtype: int64,\n",
       " Index(['PassengerId', 'Pclass', 'Name', 'Sex', 'Age', 'SibSp', 'Parch',\n",
       "        'Ticket', 'Fare', 'Cabin', 'Embarked'],\n",
       "       dtype='object'))"
      ]
     },
     "execution_count": 7,
     "metadata": {},
     "output_type": "execute_result"
    }
   ],
   "source": [
    "tit_test.isnull().sum(), tit_test.columns"
   ]
  },
  {
   "cell_type": "code",
   "execution_count": 8,
   "id": "7efa7ddd",
   "metadata": {
    "execution": {
     "iopub.execute_input": "2022-05-28T07:45:31.188960Z",
     "iopub.status.busy": "2022-05-28T07:45:31.188352Z",
     "iopub.status.idle": "2022-05-28T07:45:31.191931Z",
     "shell.execute_reply": "2022-05-28T07:45:31.191128Z"
    },
    "papermill": {
     "duration": 0.014907,
     "end_time": "2022-05-28T07:45:31.193868",
     "exception": false,
     "start_time": "2022-05-28T07:45:31.178961",
     "status": "completed"
    },
    "tags": []
   },
   "outputs": [],
   "source": [
    "# titanic_missing_vals = (tit_train.isnull().sum())\n",
    "# print(titanic_missing_vals[titanic_missing_vals > 0])"
   ]
  },
  {
   "cell_type": "code",
   "execution_count": 9,
   "id": "291f40b4",
   "metadata": {
    "execution": {
     "iopub.execute_input": "2022-05-28T07:45:31.212166Z",
     "iopub.status.busy": "2022-05-28T07:45:31.211554Z",
     "iopub.status.idle": "2022-05-28T07:45:31.215116Z",
     "shell.execute_reply": "2022-05-28T07:45:31.214323Z"
    },
    "papermill": {
     "duration": 0.015569,
     "end_time": "2022-05-28T07:45:31.217147",
     "exception": false,
     "start_time": "2022-05-28T07:45:31.201578",
     "status": "completed"
    },
    "tags": []
   },
   "outputs": [],
   "source": [
    "# tit_train2 = tit_train.fillna(float(f\"NaN\")) # Could use a Range Value\n",
    "# tit_train2"
   ]
  },
  {
   "cell_type": "code",
   "execution_count": 10,
   "id": "ecb49277",
   "metadata": {
    "execution": {
     "iopub.execute_input": "2022-05-28T07:45:31.235176Z",
     "iopub.status.busy": "2022-05-28T07:45:31.234563Z",
     "iopub.status.idle": "2022-05-28T07:45:31.238090Z",
     "shell.execute_reply": "2022-05-28T07:45:31.237305Z"
    },
    "papermill": {
     "duration": 0.015258,
     "end_time": "2022-05-28T07:45:31.240354",
     "exception": false,
     "start_time": "2022-05-28T07:45:31.225096",
     "status": "completed"
    },
    "tags": []
   },
   "outputs": [],
   "source": [
    "# tit_train3 = tit_train.dropna(subset = [\"Cabin\", \"Age\", \"Embarked\"], inplace=False)\n",
    "# tit_train3"
   ]
  },
  {
   "cell_type": "code",
   "execution_count": 11,
   "id": "3d77e8f7",
   "metadata": {
    "execution": {
     "iopub.execute_input": "2022-05-28T07:45:31.258672Z",
     "iopub.status.busy": "2022-05-28T07:45:31.257918Z",
     "iopub.status.idle": "2022-05-28T07:45:31.262770Z",
     "shell.execute_reply": "2022-05-28T07:45:31.261591Z"
    },
    "papermill": {
     "duration": 0.016198,
     "end_time": "2022-05-28T07:45:31.265098",
     "exception": false,
     "start_time": "2022-05-28T07:45:31.248900",
     "status": "completed"
    },
    "tags": []
   },
   "outputs": [],
   "source": [
    "# tit_train3.shape"
   ]
  },
  {
   "cell_type": "code",
   "execution_count": 12,
   "id": "29216995",
   "metadata": {
    "execution": {
     "iopub.execute_input": "2022-05-28T07:45:31.283029Z",
     "iopub.status.busy": "2022-05-28T07:45:31.282537Z",
     "iopub.status.idle": "2022-05-28T07:45:31.321826Z",
     "shell.execute_reply": "2022-05-28T07:45:31.320810Z"
    },
    "papermill": {
     "duration": 0.050772,
     "end_time": "2022-05-28T07:45:31.323974",
     "exception": false,
     "start_time": "2022-05-28T07:45:31.273202",
     "status": "completed"
    },
    "tags": []
   },
   "outputs": [
    {
     "data": {
      "text/html": [
       "<div>\n",
       "<style scoped>\n",
       "    .dataframe tbody tr th:only-of-type {\n",
       "        vertical-align: middle;\n",
       "    }\n",
       "\n",
       "    .dataframe tbody tr th {\n",
       "        vertical-align: top;\n",
       "    }\n",
       "\n",
       "    .dataframe thead th {\n",
       "        text-align: right;\n",
       "    }\n",
       "</style>\n",
       "<table border=\"1\" class=\"dataframe\">\n",
       "  <thead>\n",
       "    <tr style=\"text-align: right;\">\n",
       "      <th></th>\n",
       "      <th>PassengerId</th>\n",
       "      <th>Survived</th>\n",
       "      <th>Pclass</th>\n",
       "      <th>Age</th>\n",
       "      <th>SibSp</th>\n",
       "      <th>Parch</th>\n",
       "      <th>Fare</th>\n",
       "    </tr>\n",
       "  </thead>\n",
       "  <tbody>\n",
       "    <tr>\n",
       "      <th>count</th>\n",
       "      <td>891.000000</td>\n",
       "      <td>891.000000</td>\n",
       "      <td>891.000000</td>\n",
       "      <td>714.000000</td>\n",
       "      <td>891.000000</td>\n",
       "      <td>891.000000</td>\n",
       "      <td>891.000000</td>\n",
       "    </tr>\n",
       "    <tr>\n",
       "      <th>mean</th>\n",
       "      <td>446.000000</td>\n",
       "      <td>0.383838</td>\n",
       "      <td>2.308642</td>\n",
       "      <td>29.699118</td>\n",
       "      <td>0.523008</td>\n",
       "      <td>0.381594</td>\n",
       "      <td>32.204208</td>\n",
       "    </tr>\n",
       "    <tr>\n",
       "      <th>std</th>\n",
       "      <td>257.353842</td>\n",
       "      <td>0.486592</td>\n",
       "      <td>0.836071</td>\n",
       "      <td>14.526497</td>\n",
       "      <td>1.102743</td>\n",
       "      <td>0.806057</td>\n",
       "      <td>49.693429</td>\n",
       "    </tr>\n",
       "    <tr>\n",
       "      <th>min</th>\n",
       "      <td>1.000000</td>\n",
       "      <td>0.000000</td>\n",
       "      <td>1.000000</td>\n",
       "      <td>0.420000</td>\n",
       "      <td>0.000000</td>\n",
       "      <td>0.000000</td>\n",
       "      <td>0.000000</td>\n",
       "    </tr>\n",
       "    <tr>\n",
       "      <th>25%</th>\n",
       "      <td>223.500000</td>\n",
       "      <td>0.000000</td>\n",
       "      <td>2.000000</td>\n",
       "      <td>20.125000</td>\n",
       "      <td>0.000000</td>\n",
       "      <td>0.000000</td>\n",
       "      <td>7.910400</td>\n",
       "    </tr>\n",
       "    <tr>\n",
       "      <th>50%</th>\n",
       "      <td>446.000000</td>\n",
       "      <td>0.000000</td>\n",
       "      <td>3.000000</td>\n",
       "      <td>28.000000</td>\n",
       "      <td>0.000000</td>\n",
       "      <td>0.000000</td>\n",
       "      <td>14.454200</td>\n",
       "    </tr>\n",
       "    <tr>\n",
       "      <th>75%</th>\n",
       "      <td>668.500000</td>\n",
       "      <td>1.000000</td>\n",
       "      <td>3.000000</td>\n",
       "      <td>38.000000</td>\n",
       "      <td>1.000000</td>\n",
       "      <td>0.000000</td>\n",
       "      <td>31.000000</td>\n",
       "    </tr>\n",
       "    <tr>\n",
       "      <th>max</th>\n",
       "      <td>891.000000</td>\n",
       "      <td>1.000000</td>\n",
       "      <td>3.000000</td>\n",
       "      <td>80.000000</td>\n",
       "      <td>8.000000</td>\n",
       "      <td>6.000000</td>\n",
       "      <td>512.329200</td>\n",
       "    </tr>\n",
       "  </tbody>\n",
       "</table>\n",
       "</div>"
      ],
      "text/plain": [
       "       PassengerId    Survived      Pclass         Age       SibSp  \\\n",
       "count   891.000000  891.000000  891.000000  714.000000  891.000000   \n",
       "mean    446.000000    0.383838    2.308642   29.699118    0.523008   \n",
       "std     257.353842    0.486592    0.836071   14.526497    1.102743   \n",
       "min       1.000000    0.000000    1.000000    0.420000    0.000000   \n",
       "25%     223.500000    0.000000    2.000000   20.125000    0.000000   \n",
       "50%     446.000000    0.000000    3.000000   28.000000    0.000000   \n",
       "75%     668.500000    1.000000    3.000000   38.000000    1.000000   \n",
       "max     891.000000    1.000000    3.000000   80.000000    8.000000   \n",
       "\n",
       "            Parch        Fare  \n",
       "count  891.000000  891.000000  \n",
       "mean     0.381594   32.204208  \n",
       "std      0.806057   49.693429  \n",
       "min      0.000000    0.000000  \n",
       "25%      0.000000    7.910400  \n",
       "50%      0.000000   14.454200  \n",
       "75%      0.000000   31.000000  \n",
       "max      6.000000  512.329200  "
      ]
     },
     "execution_count": 12,
     "metadata": {},
     "output_type": "execute_result"
    }
   ],
   "source": [
    "tit_train.describe()"
   ]
  },
  {
   "cell_type": "code",
   "execution_count": 13,
   "id": "ff1ef196",
   "metadata": {
    "execution": {
     "iopub.execute_input": "2022-05-28T07:45:31.342155Z",
     "iopub.status.busy": "2022-05-28T07:45:31.341436Z",
     "iopub.status.idle": "2022-05-28T07:45:31.349680Z",
     "shell.execute_reply": "2022-05-28T07:45:31.348372Z"
    },
    "papermill": {
     "duration": 0.021197,
     "end_time": "2022-05-28T07:45:31.352767",
     "exception": false,
     "start_time": "2022-05-28T07:45:31.331570",
     "status": "completed"
    },
    "tags": []
   },
   "outputs": [
    {
     "name": "stdout",
     "output_type": "stream",
     "text": [
      "% of women who survived: 0.7420382165605095\n"
     ]
    }
   ],
   "source": [
    "women = tit_train.loc[tit_train.Sex == 'female'][\"Survived\"]\n",
    "rate_women = sum(women)/len(women)\n",
    "\n",
    "print(\"% of women who survived:\", rate_women)"
   ]
  },
  {
   "cell_type": "code",
   "execution_count": 14,
   "id": "096cc990",
   "metadata": {
    "execution": {
     "iopub.execute_input": "2022-05-28T07:45:31.370908Z",
     "iopub.status.busy": "2022-05-28T07:45:31.370205Z",
     "iopub.status.idle": "2022-05-28T07:45:31.378189Z",
     "shell.execute_reply": "2022-05-28T07:45:31.376758Z"
    },
    "papermill": {
     "duration": 0.01916,
     "end_time": "2022-05-28T07:45:31.380436",
     "exception": false,
     "start_time": "2022-05-28T07:45:31.361276",
     "status": "completed"
    },
    "tags": []
   },
   "outputs": [
    {
     "name": "stdout",
     "output_type": "stream",
     "text": [
      "% of men who survived: 0.18890814558058924\n"
     ]
    }
   ],
   "source": [
    "men = tit_train.loc[tit_train.Sex == 'male'][\"Survived\"]\n",
    "rate_men = sum(men)/len(men)\n",
    "\n",
    "print(\"% of men who survived:\", rate_men)"
   ]
  },
  {
   "cell_type": "markdown",
   "id": "b1df5c02",
   "metadata": {
    "papermill": {
     "duration": 0.007388,
     "end_time": "2022-05-28T07:45:31.395751",
     "exception": false,
     "start_time": "2022-05-28T07:45:31.388363",
     "status": "completed"
    },
    "tags": []
   },
   "source": [
    "# **Graph Plotting**"
   ]
  },
  {
   "cell_type": "code",
   "execution_count": 15,
   "id": "c0677a4c",
   "metadata": {
    "execution": {
     "iopub.execute_input": "2022-05-28T07:45:31.414022Z",
     "iopub.status.busy": "2022-05-28T07:45:31.412853Z",
     "iopub.status.idle": "2022-05-28T07:45:31.741953Z",
     "shell.execute_reply": "2022-05-28T07:45:31.740937Z"
    },
    "papermill": {
     "duration": 0.340422,
     "end_time": "2022-05-28T07:45:31.743937",
     "exception": false,
     "start_time": "2022-05-28T07:45:31.403515",
     "status": "completed"
    },
    "tags": []
   },
   "outputs": [
    {
     "data": {
      "image/png": "[encoded data removed]",
      "text/plain": [
       "<Figure size 432x288 with 1 Axes>"
      ]
     },
     "metadata": {
      "needs_background": "light"
     },
     "output_type": "display_data"
    }
   ],
   "source": [
    "ax = sns.stripplot(x='Sex', y='Age', hue = 'Embarked' ,data = tit_train)\n",
    "# ax = sns.displot(x='Age', y='Embarked',data = tit_train)"
   ]
  },
  {
   "cell_type": "markdown",
   "id": "0a6a87c4",
   "metadata": {
    "papermill": {
     "duration": 0.008785,
     "end_time": "2022-05-28T07:45:31.761412",
     "exception": false,
     "start_time": "2022-05-28T07:45:31.752627",
     "status": "completed"
    },
    "tags": []
   },
   "source": [
    "# **Training the model**"
   ]
  },
  {
   "cell_type": "code",
   "execution_count": 16,
   "id": "1d6349cb",
   "metadata": {
    "execution": {
     "iopub.execute_input": "2022-05-28T07:45:31.780738Z",
     "iopub.status.busy": "2022-05-28T07:45:31.779971Z",
     "iopub.status.idle": "2022-05-28T07:45:31.786760Z",
     "shell.execute_reply": "2022-05-28T07:45:31.786135Z"
    },
    "papermill": {
     "duration": 0.018329,
     "end_time": "2022-05-28T07:45:31.788567",
     "exception": false,
     "start_time": "2022-05-28T07:45:31.770238",
     "status": "completed"
    },
    "tags": []
   },
   "outputs": [
    {
     "data": {
      "text/plain": [
       "Index(['PassengerId', 'Survived', 'Pclass', 'Name', 'Sex', 'Age', 'SibSp',\n",
       "       'Parch', 'Ticket', 'Fare', 'Cabin', 'Embarked'],\n",
       "      dtype='object')"
      ]
     },
     "execution_count": 16,
     "metadata": {},
     "output_type": "execute_result"
    }
   ],
   "source": [
    "tit_train.columns"
   ]
  },
  {
   "cell_type": "code",
   "execution_count": 17,
   "id": "1f0c2e8d",
   "metadata": {
    "execution": {
     "iopub.execute_input": "2022-05-28T07:45:31.807507Z",
     "iopub.status.busy": "2022-05-28T07:45:31.806684Z",
     "iopub.status.idle": "2022-05-28T07:45:31.819787Z",
     "shell.execute_reply": "2022-05-28T07:45:31.819123Z"
    },
    "papermill": {
     "duration": 0.025012,
     "end_time": "2022-05-28T07:45:31.822073",
     "exception": false,
     "start_time": "2022-05-28T07:45:31.797061",
     "status": "completed"
    },
    "tags": []
   },
   "outputs": [],
   "source": [
    "y = tit_train.Survived\n",
    "\n",
    "titanic_feat = [\"Pclass\", \"Sex\", \"SibSp\", \"Parch\"]\n",
    "\n",
    "\n",
    "X = pd.get_dummies(tit_train[titanic_feat])\n",
    "X_test = pd.get_dummies(tit_test[titanic_feat])"
   ]
  },
  {
   "cell_type": "code",
   "execution_count": 18,
   "id": "a9120c18",
   "metadata": {
    "execution": {
     "iopub.execute_input": "2022-05-28T07:45:31.841802Z",
     "iopub.status.busy": "2022-05-28T07:45:31.841206Z",
     "iopub.status.idle": "2022-05-28T07:45:31.853363Z",
     "shell.execute_reply": "2022-05-28T07:45:31.852322Z"
    },
    "papermill": {
     "duration": 0.024309,
     "end_time": "2022-05-28T07:45:31.855530",
     "exception": false,
     "start_time": "2022-05-28T07:45:31.831221",
     "status": "completed"
    },
    "tags": []
   },
   "outputs": [
    {
     "data": {
      "text/html": [
       "<div>\n",
       "<style scoped>\n",
       "    .dataframe tbody tr th:only-of-type {\n",
       "        vertical-align: middle;\n",
       "    }\n",
       "\n",
       "    .dataframe tbody tr th {\n",
       "        vertical-align: top;\n",
       "    }\n",
       "\n",
       "    .dataframe thead th {\n",
       "        text-align: right;\n",
       "    }\n",
       "</style>\n",
       "<table border=\"1\" class=\"dataframe\">\n",
       "  <thead>\n",
       "    <tr style=\"text-align: right;\">\n",
       "      <th></th>\n",
       "      <th>Pclass</th>\n",
       "      <th>SibSp</th>\n",
       "      <th>Parch</th>\n",
       "      <th>Sex_female</th>\n",
       "      <th>Sex_male</th>\n",
       "    </tr>\n",
       "  </thead>\n",
       "  <tbody>\n",
       "    <tr>\n",
       "      <th>0</th>\n",
       "      <td>3</td>\n",
       "      <td>1</td>\n",
       "      <td>0</td>\n",
       "      <td>0</td>\n",
       "      <td>1</td>\n",
       "    </tr>\n",
       "    <tr>\n",
       "      <th>1</th>\n",
       "      <td>1</td>\n",
       "      <td>1</td>\n",
       "      <td>0</td>\n",
       "      <td>1</td>\n",
       "      <td>0</td>\n",
       "    </tr>\n",
       "    <tr>\n",
       "      <th>2</th>\n",
       "      <td>3</td>\n",
       "      <td>0</td>\n",
       "      <td>0</td>\n",
       "      <td>1</td>\n",
       "      <td>0</td>\n",
       "    </tr>\n",
       "    <tr>\n",
       "      <th>3</th>\n",
       "      <td>1</td>\n",
       "      <td>1</td>\n",
       "      <td>0</td>\n",
       "      <td>1</td>\n",
       "      <td>0</td>\n",
       "    </tr>\n",
       "    <tr>\n",
       "      <th>4</th>\n",
       "      <td>3</td>\n",
       "      <td>0</td>\n",
       "      <td>0</td>\n",
       "      <td>0</td>\n",
       "      <td>1</td>\n",
       "    </tr>\n",
       "  </tbody>\n",
       "</table>\n",
       "</div>"
      ],
      "text/plain": [
       "   Pclass  SibSp  Parch  Sex_female  Sex_male\n",
       "0       3      1      0           0         1\n",
       "1       1      1      0           1         0\n",
       "2       3      0      0           1         0\n",
       "3       1      1      0           1         0\n",
       "4       3      0      0           0         1"
      ]
     },
     "execution_count": 18,
     "metadata": {},
     "output_type": "execute_result"
    }
   ],
   "source": [
    "X.head()"
   ]
  },
  {
   "cell_type": "code",
   "execution_count": 19,
   "id": "154f8538",
   "metadata": {
    "execution": {
     "iopub.execute_input": "2022-05-28T07:45:31.875272Z",
     "iopub.status.busy": "2022-05-28T07:45:31.874577Z",
     "iopub.status.idle": "2022-05-28T07:45:32.913193Z",
     "shell.execute_reply": "2022-05-28T07:45:32.912247Z"
    },
    "papermill": {
     "duration": 1.051389,
     "end_time": "2022-05-28T07:45:32.915814",
     "exception": false,
     "start_time": "2022-05-28T07:45:31.864425",
     "status": "completed"
    },
    "tags": []
   },
   "outputs": [],
   "source": [
    "y = tit_train[\"Survived\"]\n",
    "\n",
    "features = [\"Pclass\", \"Sex\", \"SibSp\", \"Parch\"]\n",
    "X = pd.get_dummies(tit_train[features])\n",
    "X_test = pd.get_dummies(tit_test[features])\n",
    "\n",
    "model = RandomForestClassifier(n_estimators=500, max_depth=10, random_state=1)\n",
    "model.fit(X, y)\n",
    "predictions = model.predict(X_test)"
   ]
  },
  {
   "cell_type": "code",
   "execution_count": 20,
   "id": "bd76a106",
   "metadata": {
    "execution": {
     "iopub.execute_input": "2022-05-28T07:45:32.934725Z",
     "iopub.status.busy": "2022-05-28T07:45:32.934339Z",
     "iopub.status.idle": "2022-05-28T07:45:32.939559Z",
     "shell.execute_reply": "2022-05-28T07:45:32.938611Z"
    },
    "papermill": {
     "duration": 0.017137,
     "end_time": "2022-05-28T07:45:32.941563",
     "exception": false,
     "start_time": "2022-05-28T07:45:32.924426",
     "status": "completed"
    },
    "tags": []
   },
   "outputs": [],
   "source": [
    "output = pd.DataFrame({'PassengerId': tit_test.PassengerId, 'Survived': predictions})\n",
    "# output.to_csv('submission.csv', index=False)\n",
    "# print(\"Your submission was successfully saved!\")"
   ]
  }
 ],
 "metadata": {
  "kernelspec": {
   "display_name": "Python 3",
   "language": "python",
   "name": "python3"
  },
  "language_info": {
   "codemirror_mode": {
    "name": "ipython",
    "version": 3
   },
   "file_extension": ".py",
   "mimetype": "text/x-python",
   "name": "python",
   "nbconvert_exporter": "python",
   "pygments_lexer": "ipython3",
   "version": "3.7.12"
  },
  "papermill": {
   "default_parameters": {},
   "duration": 15.32918,
   "end_time": "2022-05-28T07:45:33.773757",
   "environment_variables": {},
   "exception": null,
   "input_path": "__notebook__.ipynb",
   "output_path": "__notebook__.ipynb",
   "parameters": {},
   "start_time": "2022-05-28T07:45:18.444577",
   "version": "2.3.4"
  }
 },
 "nbformat": 4,
 "nbformat_minor": 5
}
